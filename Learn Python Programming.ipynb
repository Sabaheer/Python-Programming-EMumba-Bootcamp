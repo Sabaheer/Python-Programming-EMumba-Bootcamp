{
 "cells": [
  {
   "cell_type": "markdown",
   "metadata": {},
   "source": []
  },
  {
   "cell_type": "markdown",
   "metadata": {},
   "source": [
    "--- \n",
    "<h1 align=\"center\"><b><i>Learn Python Programming</i></b></h1>\n",
    "\n",
    "---\n",
    "<h3><div align=\"right\"><b><i>Instructor : Saba Altaf</i></b>\n",
    "</div></h3>"
   ]
  },
  {
   "cell_type": "markdown",
   "metadata": {},
   "source": [
    "<h4><b><i>Python Introduction</i></b></h4>\n",
    "<h5><i><b>Python</b> is a popular general-purpose programming language. It is used in machine learning, web development, desktop applications, and many other fields. Fortunately for beginners, Python has a simple, easy-to-use syntax. This makes Python a great language to learn for beginners.\n",
    "\n",
    "Our Python tutorials will cover all the fundamental concepts of Python. And by the end, you will be comfortable creating projects in Python.</i></h5>"
   ]
  },
  {
   "cell_type": "markdown",
   "metadata": {},
   "source": [
    "<h4><b><i>How to Get Started With Python?</i></b></h4>\n",
    "<h5><i><b>IDE:</b> An integrated development environment is a software application that provides comprehensive facilities to computer programmers for software development.</i></h5>\n",
    "\n",
    "<h5><i>1- Download the latest version of <b>Python</b>. <br>\n",
    "2- Run the installer file and follow the steps to install Python<br>\n",
    "      During the install process, check Add Python to environment variables. This will add Python to environment variables, and you can run Python from any part of the computer.<br>\n",
    "   3- You can also use offline editor <b>Visual Studio Code</b><br>\n",
    "   4- You can also use online editor <b>Google Colaboratory</b></i></h5>"
   ]
  },
  {
   "cell_type": "markdown",
   "metadata": {},
   "source": [
    "<h4><b><i>How does python code get executed?</i></b></h4>\n",
    "<h5><i>source code --> compiler --> bytecode --> Run program using pvm or interpreter --> binary code --> output<br>\n",
    "\n",
    "<b>Case-sensitive:</b>\n",
    "Python language is case sensitive<br>\n",
    "\n",
    "<b>Python Comments</b><br>\n",
    "Comments are non-executable statements in Python.<br>\n",
    "Comments in Python begin with a hash mark ( # )<br>\n",
    "you can add a multiline string (triple quotes) in your code\n",
    "</i></h5>"
   ]
  },
  {
   "cell_type": "markdown",
   "metadata": {},
   "source": [
    "<h5><i><b>print()</b><br>\n",
    "The print() function prints the specified message to the screen, or another standard output device with bold text\n",
    "</i></h5>"
   ]
  },
  {
   "cell_type": "markdown",
   "metadata": {},
   "source": [
    "<h4><b><i>Your first Python Program</i></b></h4>\n",
    "\n",
    "<h5><i>Let's create a very simple program called Hello World. A \"Hello, World!\" is a simple program that outputs Hello, World! on the screen. Since it's a very simple program, it's often used to introduce a new programming language to beginners.</i></h5>\n",
    "\n"
   ]
  },
  {
   "cell_type": "code",
   "execution_count": null,
   "metadata": {},
   "outputs": [],
   "source": [
    "print(\"Hello World!\")\n",
    "print(\"Learn Python programming\")"
   ]
  },
  {
   "cell_type": "code",
   "execution_count": null,
   "metadata": {},
   "outputs": [],
   "source": [
    "print(\"Welcome to Icode Guru\")\n",
    "print(\"our first program in python\")\n",
    "print(\"Let's move to the next...........!\")"
   ]
  },
  {
   "cell_type": "markdown",
   "metadata": {},
   "source": [
    "<b><i>Congratulations!</b> You just wrote your first program in Python.<i>"
   ]
  }
 ],
 "metadata": {
  "kernelspec": {
   "display_name": "Python 3.10.6 64-bit",
   "language": "python",
   "name": "python3"
  },
  "language_info": {
   "name": "python",
   "version": "3.10.6"
  },
  "orig_nbformat": 4,
  "vscode": {
   "interpreter": {
    "hash": "c9d0aaf965aa062a19b04b60b3479a0bb5ddc560c0731a8fe54fb8ba8414dfd7"
   }
  }
 },
 "nbformat": 4,
 "nbformat_minor": 2
}
