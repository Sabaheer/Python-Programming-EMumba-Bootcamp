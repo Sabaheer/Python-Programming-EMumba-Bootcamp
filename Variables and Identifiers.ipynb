{
 "cells": [
  {
   "cell_type": "markdown",
   "metadata": {},
   "source": [
    "--- \n",
    "<h1 align=\"center\"><b><i>Learn Python Programming</i></b></h1>\n",
    "\n",
    "---\n",
    "<h3><div align=\"right\"><b><i>Instructor : Saba Altaf</i></b>\n",
    "</div></h3>\n"
   ]
  },
  {
   "cell_type": "markdown",
   "metadata": {},
   "source": [
    "<h4><i><b>Python Variables</b></i></h4>\n",
    "<h5><i>\n",
    "Python Variables\n",
    "A variable is a named location used to store data in the memory. It is helpful to think of variables as a container that holds data that can be changed later in the program.<br>\n",
    "Every variable name should start with alphabets or underscores(_)<br>\n",
    "No spaces are allowed in variable declaration<br>\n",
    "Except underscore(_) no other special symbols are allowed during variable declaration<br>\n",
    "A variable is written with a combination of letters, numbers and special characters (_)<br>\n",
    "No reserved words are used as variables.<br>\n",
    "\n",
    "\n",
    "</i></h5>"
   ]
  },
  {
   "cell_type": "code",
   "execution_count": null,
   "metadata": {},
   "outputs": [],
   "source": [
    "\n",
    "# Create a variable rank\n",
    "rank = 100\n",
    " \n",
    "# Create a variable growth_multiplier\n",
    "strength = 1.1\n",
    " \n",
    "# Calculate result\n",
    "x = rank * 1.1 ** 7\n",
    " \n",
    "# Print out result\n",
    "print(x)"
   ]
  },
  {
   "cell_type": "code",
   "execution_count": null,
   "metadata": {},
   "outputs": [],
   "source": [
    "# declaring the var\n",
    "Number = 100\n",
    "  \n",
    "# display\n",
    "print(\"Before declare: \", Number)\n",
    "  \n",
    "# re-declare the var\n",
    "Number = 120.3\n",
    "    \n",
    "print(\"After re-declare:\", Number)\n"
   ]
  },
  {
   "cell_type": "code",
   "execution_count": null,
   "metadata": {},
   "outputs": [],
   "source": [
    "#  same value to multiple variables at once\n",
    "a = b = c = 10\n",
    "  \n",
    "print(a)\n",
    "print(b)\n",
    "print(c)\n"
   ]
  },
  {
   "cell_type": "code",
   "execution_count": null,
   "metadata": {},
   "outputs": [],
   "source": [
    "#  Assigning multiple values to multiple variables\n",
    "\n",
    "a, b, c = 1, 20.2, \"IcodeGuru\"\n",
    "  \n",
    "print(a)\n",
    "print(b)\n",
    "print(c)\n"
   ]
  },
  {
   "cell_type": "code",
   "execution_count": null,
   "metadata": {},
   "outputs": [],
   "source": [
    "\n",
    "a = 10\n",
    "a = \"IcodeGuru\"\n",
    "  \n",
    "print(a)\n"
   ]
  },
  {
   "cell_type": "code",
   "execution_count": null,
   "metadata": {},
   "outputs": [],
   "source": [
    "#  Changing the value of a variable\n",
    "a = 10\n",
    "b = 20\n",
    "print(a+b)\n",
    "  \n",
    "a = \"EMumba Bootcamp\"\n",
    "b = \"10\"\n",
    "print(a+b)"
   ]
  },
  {
   "cell_type": "code",
   "execution_count": null,
   "metadata": {},
   "outputs": [],
   "source": [
    "# to check the type of variable\n",
    "name = \"EMumba Bootcamp\"\n",
    "print(\"name is of \", type(name))\n",
    "x = 234\n",
    "print(\"x is of \", type(x))\n",
    "y = 5.321\n",
    "print(\"y is of \", type(y))"
   ]
  },
  {
   "cell_type": "code",
   "execution_count": null,
   "metadata": {},
   "outputs": [],
   "source": [
    "#  To Check the ID of a Variable\n",
    "\n",
    "x = 234\n",
    "y = 5.321\n",
    "id(x), id(y)"
   ]
  },
  {
   "cell_type": "code",
   "execution_count": null,
   "metadata": {},
   "outputs": [],
   "source": [
    "a = 10\n",
    "b = 10\n",
    "id(a), id(b)"
   ]
  },
  {
   "cell_type": "markdown",
   "metadata": {},
   "source": [
    "<h4><i>Both the variables a and b have same ID, i.e., both a and b are pointing to same memory location.<br>\n",
    "Variables in Python are not actual objects, rather are references to objects that are present in memory.<br>\n",
    "So both the variables a and b are refering to same object 10 in memory and thus having the same ID.</i></h4>"
   ]
  },
  {
   "cell_type": "code",
   "execution_count": null,
   "metadata": {},
   "outputs": [],
   "source": [
    "var1 = \"Python Programming\"\n",
    "id(var1)"
   ]
  },
  {
   "cell_type": "code",
   "execution_count": null,
   "metadata": {},
   "outputs": [],
   "source": [
    "var1 = \"Learn Basics of Python\"\n",
    "id(var1)"
   ]
  }
 ],
 "metadata": {
  "kernelspec": {
   "display_name": "Python 3.10.6 64-bit",
   "language": "python",
   "name": "python3"
  },
  "language_info": {
   "name": "python",
   "version": "3.10.6"
  },
  "orig_nbformat": 4,
  "vscode": {
   "interpreter": {
    "hash": "c9d0aaf965aa062a19b04b60b3479a0bb5ddc560c0731a8fe54fb8ba8414dfd7"
   }
  }
 },
 "nbformat": 4,
 "nbformat_minor": 2
}
